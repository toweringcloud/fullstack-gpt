{
 "cells": [
  {
   "cell_type": "code",
   "execution_count": 7,
   "metadata": {},
   "outputs": [],
   "source": [
    "# fullstack gpt code challenge 04\n",
    "from dotenv import dotenv_values\n",
    "from langchain.chat_models import ChatOpenAI\n",
    "from langchain.callbacks import StreamingStdOutCallbackHandler\n",
    "from langchain.document_loaders import TextLoader\n",
    "from langchain.embeddings import OpenAIEmbeddings, CacheBackedEmbeddings\n",
    "from langchain.memory import ConversationBufferMemory\n",
    "from langchain.prompts import ChatPromptTemplate, MessagesPlaceholder\n",
    "from langchain.schema.runnable import RunnablePassthrough, RunnableLambda\n",
    "from langchain.storage import LocalFileStore\n",
    "from langchain.text_splitter import CharacterTextSplitter\n",
    "from langchain.vectorstores import FAISS\n",
    "\n",
    "config = dotenv_values(\".env\")\n",
    "\n",
    "llm = ChatOpenAI(\n",
    "    openai_api_key=config['OPENAI_API_KEY'],\n",
    "    model=\"gpt-4o-mini-2024-07-18\",\n",
    "    temperature=0.1,\n",
    "    streaming=True,\n",
    "    callbacks=[\n",
    "        StreamingStdOutCallbackHandler(),\n",
    "    ],\n",
    ")\n",
    "\n",
    "# 문서 로드와 쪼개기 / 임베딩 생성 및 캐시\n",
    "cache_dir = LocalFileStore(\"./.cache/\")\n",
    "\n",
    "splitter = CharacterTextSplitter.from_tiktoken_encoder(\n",
    "    separator=\"\\n\",\n",
    "    chunk_size=600,\n",
    "    chunk_overlap=100,\n",
    ")\n",
    "loader = TextLoader(\"./files/document-c04.txt\")\n",
    "docs = loader.load_and_split(text_splitter=splitter)\n",
    "\n",
    "embeddings = OpenAIEmbeddings()\n",
    "cached_embeddings = CacheBackedEmbeddings.from_bytes_store(\n",
    "    embeddings,\n",
    "    cache_dir,\n",
    ")\n",
    "vectorstore = FAISS.from_documents(docs, cached_embeddings)\n",
    "retriever = vectorstore.as_retriever()\n",
    "\n",
    "# 메모리와 문서를 이용한 프롬프트\n",
    "memory = ConversationBufferMemory(\n",
    "    llm=llm,\n",
    "    max_token_limit=20,\n",
    "    return_messages=True,\n",
    ")\n",
    "\n",
    "def load_memory(_):\n",
    "    return memory.load_memory_variables({})[\"history\"]\n",
    "\n",
    "prompt = ChatPromptTemplate.from_messages(\n",
    "    [\n",
    "        (\n",
    "            \"system\",\n",
    "            \"You are a helpful assistant. Answer questions using only the following context. If you don't know the answer just say you don't know, don't make it up:\\n\\n{context}\",\n",
    "        ),\n",
    "        MessagesPlaceholder(variable_name=\"history\"),\n",
    "        (\"human\", \"{question}\"),\n",
    "    ]\n",
    ")\n",
    "\n",
    "# 체인 연결 / 체인 호출 함수 정의\n",
    "chain = (\n",
    "    {\n",
    "        \"context\": retriever,\n",
    "        \"question\": RunnablePassthrough(),\n",
    "        \"history\": load_memory,\n",
    "    }\n",
    "    | prompt\n",
    "    | llm\n",
    ")\n",
    "\n",
    "def invoke_chain(question):\n",
    "    result = chain.invoke(question)\n",
    "    print(result)\n",
    "    memory.save_context({\"input\": question}, {\"output\": result.content})"
   ]
  },
  {
   "cell_type": "code",
   "execution_count": 8,
   "metadata": {},
   "outputs": [
    {
     "name": "stdout",
     "output_type": "stream",
     "text": [
      "According to the context, Winston believes that Aaronson, along with Jones and Rutherford, is guilty of the crimes they are charged with, despite having a memory that contradicts this belief. He recalls having seen a photograph that disproved their guilt, but he convinces himself that it never existed and that he invented it. Therefore, in the context provided, Winston accepts that Aaronson is guilty.content='According to the context, Winston believes that Aaronson, along with Jones and Rutherford, is guilty of the crimes they are charged with, despite having a memory that contradicts this belief. He recalls having seen a photograph that disproved their guilt, but he convinces himself that it never existed and that he invented it. Therefore, in the context provided, Winston accepts that Aaronson is guilty.'\n"
     ]
    }
   ],
   "source": [
    "invoke_chain(\"Is Aaronson guilty?\")"
   ]
  },
  {
   "cell_type": "code",
   "execution_count": 9,
   "metadata": {},
   "outputs": [
    {
     "name": "stdout",
     "output_type": "stream",
     "text": [
      "Winston wrote \"FREEDOM IS SLAVERY\" and beneath it \"TWO AND TWO MAKE FIVE\" on the table. He also wrote \"GOD IS POWER.\"content='Winston wrote \"FREEDOM IS SLAVERY\" and beneath it \"TWO AND TWO MAKE FIVE\" on the table. He also wrote \"GOD IS POWER.\"'\n"
     ]
    }
   ],
   "source": [
    "invoke_chain(\"What message did he write in the table?\")"
   ]
  },
  {
   "cell_type": "code",
   "execution_count": 10,
   "metadata": {},
   "outputs": [
    {
     "name": "stdout",
     "output_type": "stream",
     "text": [
      "Julia is a character who has a romantic relationship with Winston. She is portrayed as a rebellious figure against the Party, engaging in a love affair with Winston despite the oppressive regime they live under. Julia represents a sense of individuality and personal freedom in contrast to the totalitarian control of the Party.content='Julia is a character who has a romantic relationship with Winston. She is portrayed as a rebellious figure against the Party, engaging in a love affair with Winston despite the oppressive regime they live under. Julia represents a sense of individuality and personal freedom in contrast to the totalitarian control of the Party.'\n"
     ]
    }
   ],
   "source": [
    "invoke_chain(\"Who is Julia?\")"
   ]
  },
  {
   "cell_type": "code",
   "execution_count": 11,
   "metadata": {},
   "outputs": [
    {
     "data": {
      "text/plain": [
       "[HumanMessage(content='Is Aaronson guilty?'),\n",
       " AIMessage(content='According to the context, Winston believes that Aaronson, along with Jones and Rutherford, is guilty of the crimes they are charged with, despite having a memory that contradicts this belief. He recalls having seen a photograph that disproved their guilt, but he convinces himself that it never existed and that he invented it. Therefore, in the context provided, Winston accepts that Aaronson is guilty.'),\n",
       " HumanMessage(content='What message did he write in the table?'),\n",
       " AIMessage(content='Winston wrote \"FREEDOM IS SLAVERY\" and beneath it \"TWO AND TWO MAKE FIVE\" on the table. He also wrote \"GOD IS POWER.\"'),\n",
       " HumanMessage(content='Who is Julia?'),\n",
       " AIMessage(content='Julia is a character who has a romantic relationship with Winston. She is portrayed as a rebellious figure against the Party, engaging in a love affair with Winston despite the oppressive regime they live under. Julia represents a sense of individuality and personal freedom in contrast to the totalitarian control of the Party.')]"
      ]
     },
     "execution_count": 11,
     "metadata": {},
     "output_type": "execute_result"
    }
   ],
   "source": [
    "load_memory({})"
   ]
  },
  {
   "cell_type": "code",
   "execution_count": null,
   "metadata": {},
   "outputs": [],
   "source": []
  }
 ],
 "metadata": {
  "kernelspec": {
   "display_name": "Python 3",
   "language": "python",
   "name": "python3"
  },
  "language_info": {
   "codemirror_mode": {
    "name": "ipython",
    "version": 3
   },
   "file_extension": ".py",
   "mimetype": "text/x-python",
   "name": "python",
   "nbconvert_exporter": "python",
   "pygments_lexer": "ipython3",
   "version": "3.11.6"
  }
 },
 "nbformat": 4,
 "nbformat_minor": 2
}
