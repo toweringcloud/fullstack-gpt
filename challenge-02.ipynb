{
 "cells": [
  {
   "cell_type": "code",
   "execution_count": 7,
   "metadata": {},
   "outputs": [
    {
     "name": "stdout",
     "output_type": "stream",
     "text": [
      "\"The Matrix\" is a groundbreaking science fiction film directed by the Wachowskis and released in 1999. The film stars Keanu Reeves as Neo, Laurence Fishburne as Morpheus, and Carrie-Anne Moss as Trinity. The story follows Neo, a computer hacker who discovers the truth about reality - that the world he knows is a simulated reality created by sentient machines to subdue humanity.\n",
      "\n",
      "The film is known for its innovative visual effects, including the iconic \"bullet time\" sequences, as well as its philosophical themes exploring the nature of reality, free will, and the power of choice. \"The Matrix\" was a critical and commercial success, spawning two sequels, \"The Matrix Reloaded\" and \"The Matrix Revolutions,\" both released in 2003.\n",
      "\n",
      "\"The Matrix\" has had a significant impact on popular culture and has been praised for its storytelling, action sequences, and visual style. It is considered a classic of the science fiction genre and continues to be celebrated for its influence on filmmaking and storytelling."
     ]
    },
    {
     "data": {
      "text/plain": [
       "AIMessage(content='\"The Matrix\" is a groundbreaking science fiction film directed by the Wachowskis and released in 1999. The film stars Keanu Reeves as Neo, Laurence Fishburne as Morpheus, and Carrie-Anne Moss as Trinity. The story follows Neo, a computer hacker who discovers the truth about reality - that the world he knows is a simulated reality created by sentient machines to subdue humanity.\\n\\nThe film is known for its innovative visual effects, including the iconic \"bullet time\" sequences, as well as its philosophical themes exploring the nature of reality, free will, and the power of choice. \"The Matrix\" was a critical and commercial success, spawning two sequels, \"The Matrix Reloaded\" and \"The Matrix Revolutions,\" both released in 2003.\\n\\n\"The Matrix\" has had a significant impact on popular culture and has been praised for its storytelling, action sequences, and visual style. It is considered a classic of the science fiction genre and continues to be celebrated for its influence on filmmaking and storytelling.', response_metadata={'finish_reason': 'stop'}, id='run-275a75c8-4f10-4e36-81d2-60dc427b9376-0')"
      ]
     },
     "execution_count": 7,
     "metadata": {},
     "output_type": "execute_result"
    }
   ],
   "source": [
    "# fullstack gpt code challenge 02\n",
    "from dotenv import dotenv_values\n",
    "from langchain.chat_models import ChatOpenAI\n",
    "from langchain.prompts.few_shot import FewShotChatMessagePromptTemplate\n",
    "from langchain.callbacks import StreamingStdOutCallbackHandler\n",
    "from langchain.prompts import ChatMessagePromptTemplate, ChatPromptTemplate\n",
    "\n",
    "config = dotenv_values(\".env\")\n",
    "\n",
    "chat = ChatOpenAI(\n",
    "    openai_api_key=config['OPENAI_API_KEY'],\n",
    "    model=\"gpt-3.5-turbo\",\n",
    "    temperature=0.1,\n",
    "    streaming=True,\n",
    "    callbacks=[\n",
    "        StreamingStdOutCallbackHandler(),\n",
    "    ],\n",
    ")\n",
    "\n",
    "# https://www.themoviedb.org/movie/872585-oppenheimer\n",
    "# https://www.themoviedb.org/movie/76600-avatar-the-way-of-water\n",
    "# https://www.themoviedb.org/movie/1011985-kung-fu-panda-4\n",
    "examples = [\n",
    "    {\n",
    "        \"movie\": \"Oppenheimer\",\n",
    "        \"answer\": \"\"\"\n",
    "        Here is what I know:\n",
    "        Director: 크리스토퍼 놀란\n",
    "        Main Characters: 킬리언 머피, 에밀리 블런트, 맷 데이먼, 로버트 다우니 주니어, 플로렌스 퓨\n",
    "        Genre: 드라마, 역사\n",
    "        Running Time: 3h 1m\n",
    "        Synopsis: 마침내 내면의 평화… 냉면의 평화…가 찾아왔다고 믿는 용의 전사 ‘포’ 이젠 평화의 계곡의 영적 지도자가 되고, 자신을 대신할 후계자를 찾아야만 한다. “이제 용의 전사는 그만둬야 해요?” 용의 전사로의 모습이 익숙해지고 새로운 성장을 하기보다 지금 이대로가 좋은 ‘포’ 하지만 모든 쿵푸 마스터들의 능력을 그대로 복제하는 강력한 빌런 ‘카멜레온’이 나타나고 그녀를 막기 위해 정체를 알 수 없는 쿵푸 고수 ‘젠’과 함께 모험을 떠나게 되는데… 포는 가장 강력한 빌런과 자기 자신마저 뛰어넘고 진정한 변화를 할 수 있을까?\n",
    "        Budget: $100,000,000.00\n",
    "        Profit: $952,000,000.00\n",
    "        \"\"\",\n",
    "    },\n",
    "    {\n",
    "        \"movie\": \"Avatar: The Way of Water\",\n",
    "        \"answer\": \"\"\"\n",
    "        Here is what I know:\n",
    "        Director: 제임스 카메론\n",
    "        Main Characters: 샘 워싱턴, 조 샐다나, 시고니 위버, 스티븐 랭, 케이트 윈슬렛\n",
    "        Genre: SF, 모험, 액션\n",
    "        Running Time: 3h 12m\n",
    "        Synopsis: 판도라 행성에서 제이크 설리와 네이티리가 이룬 가족이 겪게 되는 무자비한 위협과 살아남기 위해 떠나야 하는 긴 여정과 전투, 그리고 견뎌내야 할 상처에 대한 이야기를 그렸다. 살아남기 위해 설리 가족이 숲에서 바다로 터전을 옮기면서 겪게 되는 화합의 과정, 그리고 곳곳에서 도사리는 새로운 위협까지 역경 속에서 더 아름답게 펼쳐진다.\n",
    "        Budget: $460,000,000.00\n",
    "        Profit: $2,320,250,281.00\n",
    "        \"\"\",\n",
    "    },\n",
    "    {\n",
    "        \"movie\": \"Kung Fu Panda 4\",\n",
    "        \"answer\": \"\"\"\n",
    "        Here is what I know:\n",
    "        Director: 마이크 미첼\n",
    "        Main Characters: 잭 블랙, 아콰피나, 비올라 데이비스, 더스틴 호프만, 브라이언 크랜스턴\n",
    "        Genre: 애니메이션, 가족, 판타지, 액션\n",
    "        Running Time: 1h 34m\n",
    "        Synopsis: 마침내 내면의 평화… 냉면의 평화…가 찾아왔다고 믿는 용의 전사 ‘포’ 이젠 평화의 계곡의 영적 지도자가 되고, 자신을 대신할 후계자를 찾아야만 한다. “이제 용의 전사는 그만둬야 해요?” 용의 전사로의 모습이 익숙해지고 새로운 성장을 하기보다 지금 이대로가 좋은 ‘포’ 하지만 모든 쿵푸 마스터들의 능력을 그대로 복제하는 강력한 빌런 ‘카멜레온’이 나타나고 그녀를 막기 위해 정체를 알 수 없는 쿵푸 고수 ‘젠’과 함께 모험을 떠나게 되는데… 포는 가장 강력한 빌런과 자기 자신마저 뛰어넘고 진정한 변화를 할 수 있을까?\n",
    "        Budget: $80,000,000.00\n",
    "        Profit: $543,900,620.00\n",
    "        \"\"\",\n",
    "    },\n",
    "]\n",
    "\n",
    "example_prompt = ChatPromptTemplate.from_messages(\n",
    "    [\n",
    "        (\"human\", \"What do you know about {movie}?\"),\n",
    "        (\"ai\", \"{answer}\"),\n",
    "    ]\n",
    ")\n",
    "example_prompt = FewShotChatMessagePromptTemplate(\n",
    "    example_prompt=example_prompt,\n",
    "    examples=examples,\n",
    ")\n",
    "\n",
    "final_prompt = ChatPromptTemplate.from_messages(\n",
    "    [\n",
    "        (\"system\", \"You are a movie specialist, you should give best answers.\"),\n",
    "        example_prompt,\n",
    "        (\"human\", \"What do you know about {movie}?\"),\n",
    "    ]\n",
    ")\n",
    "\n",
    "chain = final_prompt | chat\n",
    "chain.invoke({\"movie\": \"Matrix\"})"
   ]
  },
  {
   "cell_type": "code",
   "execution_count": null,
   "metadata": {},
   "outputs": [],
   "source": []
  }
 ],
 "metadata": {
  "kernelspec": {
   "display_name": "Python 3",
   "language": "python",
   "name": "python3"
  },
  "language_info": {
   "codemirror_mode": {
    "name": "ipython",
    "version": 3
   },
   "file_extension": ".py",
   "mimetype": "text/x-python",
   "name": "python",
   "nbconvert_exporter": "python",
   "pygments_lexer": "ipython3",
   "version": "3.12.5"
  }
 },
 "nbformat": 4,
 "nbformat_minor": 2
}
