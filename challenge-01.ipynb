{
 "cells": [
  {
   "cell_type": "code",
   "execution_count": 4,
   "metadata": {},
   "outputs": [
    {
     "name": "stdout",
     "output_type": "stream",
     "text": [
      "In the depths of the jungle, where shadows dance,\n",
      "Lies a creature of elegance, in a hypnotic trance.\n",
      "With scales like emeralds, glistening in the sun,\n",
      "The python slithers, its journey just begun.\n",
      "\n",
      "Silent and sleek, it moves with grace,\n",
      "A predator in a tranquil place.\n",
      "Coiled and ready, its eyes aglow,\n",
      "In the realm of the python, all creatures know.\n",
      "\n",
      "With a flick of its tongue, it tastes the air,\n",
      "A master of stealth, beyond compare.\n",
      "In the heart of the forest, it reigns supreme,\n",
      "A symbol of power, a mesmerizing dream.\n",
      "\n",
      "Oh, python of legend, mysterious and wise,\n",
      "Your presence commands both fear and surprise.\n",
      "In your serpentine dance, we find a kind of art,\n",
      "A symbol of nature, forever close to our heart.This poem paints a vivid picture of a python, a majestic creature found in the depths of the jungle. The poet describes the python with great detail, highlighting its elegance, grace, and power. The python is depicted as a predator, moving silently and sleekly through its tranquil environment.\n",
      "\n",
      "The poet uses imagery to bring the python to life, describing its scales as glistening like emeralds in the sun and its eyes aglow with readiness. The python's ability to taste the air with a flick of its tongue and its mastery of stealth are emphasized, showcasing its skills as a hunter in the forest.\n",
      "\n",
      "The python is portrayed as a symbol of power and mystery, commanding both fear and surprise with its presence. Despite its fearsome reputation, the poet also sees the python as a mesmerizing creature, a symbol of nature that holds a special place in our hearts.\n",
      "\n",
      "Overall, the poem celebrates the beauty and power of the python, weaving together themes of elegance, strength, and the natural world. It invites readers to appreciate the wonder of this legendary creature and the artistry of its serpentine dance in the heart of the jungle."
     ]
    },
    {
     "data": {
      "text/plain": [
       "AIMessage(content=\"This poem paints a vivid picture of a python, a majestic creature found in the depths of the jungle. The poet describes the python with great detail, highlighting its elegance, grace, and power. The python is depicted as a predator, moving silently and sleekly through its tranquil environment.\\n\\nThe poet uses imagery to bring the python to life, describing its scales as glistening like emeralds in the sun and its eyes aglow with readiness. The python's ability to taste the air with a flick of its tongue and its mastery of stealth are emphasized, showcasing its skills as a hunter in the forest.\\n\\nThe python is portrayed as a symbol of power and mystery, commanding both fear and surprise with its presence. Despite its fearsome reputation, the poet also sees the python as a mesmerizing creature, a symbol of nature that holds a special place in our hearts.\\n\\nOverall, the poem celebrates the beauty and power of the python, weaving together themes of elegance, strength, and the natural world. It invites readers to appreciate the wonder of this legendary creature and the artistry of its serpentine dance in the heart of the jungle.\", response_metadata={'finish_reason': 'stop'}, id='run-d478e445-cd32-44d5-8b7e-69d68be07e16-0')"
      ]
     },
     "execution_count": 4,
     "metadata": {},
     "output_type": "execute_result"
    }
   ],
   "source": [
    "from langchain.chat_models import ChatOpenAI\n",
    "from langchain.prompts import ChatPromptTemplate\n",
    "from langchain.callbacks import StreamingStdOutCallbackHandler\n",
    "\n",
    "chat = ChatOpenAI(\n",
    "    openai_api_key=OPENAI_API_KEY,\n",
    "    model=\"gpt-3.5-turbo\",\n",
    "    temperature=0.1,\n",
    "    streaming=True,\n",
    "    callbacks=[\n",
    "        StreamingStdOutCallbackHandler(),\n",
    "    ],\n",
    ")\n",
    "\n",
    "poet_prompt = ChatPromptTemplate.from_messages(\n",
    "    [\n",
    "        (\"system\", \"You are a famous poet.\"),\n",
    "        (\"human\", \"I want to hear poetry about {programming_language}.\"),\n",
    "    ]\n",
    ")\n",
    "poet_chain = poet_prompt | chat\n",
    "\n",
    "docent_prompt = ChatPromptTemplate.from_messages(\n",
    "    [\n",
    "        (\n",
    "            \"system\",\n",
    "            \"You are docent specialized in explaining poetry. Listen to the poem and explain it in detail in an easy-to-understand manner.\",\n",
    "        ),\n",
    "        (\"human\", \"{poetry}\"),\n",
    "    ]\n",
    ")\n",
    "docent_chain = docent_prompt | chat\n",
    "\n",
    "final_chain = {\"poetry\": poet_chain} | docent_chain \n",
    "final_chain.invoke({\"programming_language\": \"python\"})"
   ]
  },
  {
   "cell_type": "code",
   "execution_count": null,
   "metadata": {},
   "outputs": [],
   "source": []
  },
  {
   "cell_type": "code",
   "execution_count": null,
   "metadata": {},
   "outputs": [],
   "source": []
  }
 ],
 "metadata": {
  "kernelspec": {
   "display_name": "Python 3",
   "language": "python",
   "name": "python3"
  },
  "language_info": {
   "codemirror_mode": {
    "name": "ipython",
    "version": 3
   },
   "file_extension": ".py",
   "mimetype": "text/x-python",
   "name": "python",
   "nbconvert_exporter": "python",
   "pygments_lexer": "ipython3",
   "version": "3.12.5"
  }
 },
 "nbformat": 4,
 "nbformat_minor": 2
}
